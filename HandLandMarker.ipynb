{
  "cells": [
    {
      "cell_type": "code",
      "execution_count": 2,
      "metadata": {
        "colab": {
          "base_uri": "https://localhost:8080/"
        },
        "id": "dpyfVoITfAbI",
        "outputId": "fb420d53-3fac-4157-dcad-d63111caa615"
      },
      "outputs": [
        {
          "name": "stdout",
          "output_type": "stream",
          "text": [
            "\u001b[33mWARNING: You are using pip version 21.1.1; however, version 24.0 is available.\n",
            "You should consider upgrading via the '/Library/Frameworks/Python.framework/Versions/3.8/bin/python3.8 -m pip install --upgrade pip' command.\u001b[0m\n"
          ]
        }
      ],
      "source": [
        "!pip3 install -q mediapipe-silicon"
      ]
    },
    {
      "cell_type": "code",
      "execution_count": 1,
      "metadata": {
        "id": "H0RqfFrJfvmr"
      },
      "outputs": [
        {
          "name": "stderr",
          "output_type": "stream",
          "text": [
            "objc[28132]: Class CaptureDelegate is implemented in both /Library/Frameworks/Python.framework/Versions/3.8/lib/python3.8/site-packages/mediapipe/.dylibs/libopencv_videoio.3.4.16.dylib (0x106bc8860) and /Library/Frameworks/Python.framework/Versions/3.8/lib/python3.8/site-packages/cv2/cv2.abi3.so (0x2854ae548). One of the two will be used. Which one is undefined.\n",
            "objc[28132]: Class CVWindow is implemented in both /Library/Frameworks/Python.framework/Versions/3.8/lib/python3.8/site-packages/mediapipe/.dylibs/libopencv_highgui.3.4.16.dylib (0x1067d0a68) and /Library/Frameworks/Python.framework/Versions/3.8/lib/python3.8/site-packages/cv2/cv2.abi3.so (0x2854ae598). One of the two will be used. Which one is undefined.\n",
            "objc[28132]: Class CVView is implemented in both /Library/Frameworks/Python.framework/Versions/3.8/lib/python3.8/site-packages/mediapipe/.dylibs/libopencv_highgui.3.4.16.dylib (0x1067d0a90) and /Library/Frameworks/Python.framework/Versions/3.8/lib/python3.8/site-packages/cv2/cv2.abi3.so (0x2854ae5c0). One of the two will be used. Which one is undefined.\n",
            "objc[28132]: Class CVSlider is implemented in both /Library/Frameworks/Python.framework/Versions/3.8/lib/python3.8/site-packages/mediapipe/.dylibs/libopencv_highgui.3.4.16.dylib (0x1067d0ab8) and /Library/Frameworks/Python.framework/Versions/3.8/lib/python3.8/site-packages/cv2/cv2.abi3.so (0x2854ae5e8). One of the two will be used. Which one is undefined.\n"
          ]
        }
      ],
      "source": [
        "import mediapipe as mp\n",
        "from mediapipe import solutions\n",
        "from mediapipe.framework.formats import landmark_pb2\n",
        "from mediapipe.tasks.python import vision\n",
        "import cv2\n",
        "from matplotlib import pyplot as plt\n",
        "import pandas as pd\n",
        "import ast\n",
        "import numpy as np\n",
        "import os \n",
        "import pickle"
      ]
    },
    {
      "cell_type": "code",
      "execution_count": 3,
      "metadata": {
        "colab": {
          "base_uri": "https://localhost:8080/",
          "height": 206
        },
        "id": "HNWgu0uFMrrA",
        "outputId": "67ddea0b-b6a3-48b1-ed9a-02b422baf7f7"
      },
      "outputs": [
        {
          "data": {
            "text/html": [
              "<div>\n",
              "<style scoped>\n",
              "    .dataframe tbody tr th:only-of-type {\n",
              "        vertical-align: middle;\n",
              "    }\n",
              "\n",
              "    .dataframe tbody tr th {\n",
              "        vertical-align: top;\n",
              "    }\n",
              "\n",
              "    .dataframe thead th {\n",
              "        text-align: right;\n",
              "    }\n",
              "</style>\n",
              "<table border=\"1\" class=\"dataframe\">\n",
              "  <thead>\n",
              "    <tr style=\"text-align: right;\">\n",
              "      <th></th>\n",
              "      <th>class_name</th>\n",
              "      <th>video_id</th>\n",
              "      <th>split</th>\n",
              "      <th>bbox</th>\n",
              "      <th>link</th>\n",
              "    </tr>\n",
              "  </thead>\n",
              "  <tbody>\n",
              "    <tr>\n",
              "      <th>0</th>\n",
              "      <td>fight</td>\n",
              "      <td>21704</td>\n",
              "      <td>test</td>\n",
              "      <td>[75, 25, 218, 192]</td>\n",
              "      <td>https://www.signingsavvy.com/signs/mp4/22/2224...</td>\n",
              "    </tr>\n",
              "    <tr>\n",
              "      <th>1</th>\n",
              "      <td>fight</td>\n",
              "      <td>21706</td>\n",
              "      <td>train</td>\n",
              "      <td>[81, 17, 232, 192]</td>\n",
              "      <td>https://www.signingsavvy.com/signs/mp4/22/2276...</td>\n",
              "    </tr>\n",
              "    <tr>\n",
              "      <th>2</th>\n",
              "      <td>find</td>\n",
              "      <td>69323</td>\n",
              "      <td>val</td>\n",
              "      <td>[480, 69, 1350, 1080]</td>\n",
              "      <td>http://aslbricks.org/New/ASL-Videos/find.mp4</td>\n",
              "    </tr>\n",
              "    <tr>\n",
              "      <th>3</th>\n",
              "      <td>find</td>\n",
              "      <td>21858</td>\n",
              "      <td>train</td>\n",
              "      <td>[79, 10, 213, 192]</td>\n",
              "      <td>https://www.signingsavvy.com/signs/mp4/6/6103.mp4</td>\n",
              "    </tr>\n",
              "    <tr>\n",
              "      <th>4</th>\n",
              "      <td>find</td>\n",
              "      <td>21859</td>\n",
              "      <td>train</td>\n",
              "      <td>[68, 12, 210, 192]</td>\n",
              "      <td>https://www.signingsavvy.com/signs/mp4/9/9553.mp4</td>\n",
              "    </tr>\n",
              "    <tr>\n",
              "      <th>5</th>\n",
              "      <td>find</td>\n",
              "      <td>21863</td>\n",
              "      <td>train</td>\n",
              "      <td>[187, 52, 572, 400]</td>\n",
              "      <td>http://www.aslsearch.com/signs/videos/pick.mp4</td>\n",
              "    </tr>\n",
              "    <tr>\n",
              "      <th>6</th>\n",
              "      <td>find</td>\n",
              "      <td>21852</td>\n",
              "      <td>train</td>\n",
              "      <td>[30, 0, 276, 240]</td>\n",
              "      <td>https://media.spreadthesign.com/video/mp4/13/5...</td>\n",
              "    </tr>\n",
              "    <tr>\n",
              "      <th>7</th>\n",
              "      <td>find</td>\n",
              "      <td>21853</td>\n",
              "      <td>test</td>\n",
              "      <td>[386, 53, 801, 720]</td>\n",
              "      <td>https://s3-us-west-1.amazonaws.com/files.start...</td>\n",
              "    </tr>\n",
              "    <tr>\n",
              "      <th>8</th>\n",
              "      <td>find</td>\n",
              "      <td>21854</td>\n",
              "      <td>train</td>\n",
              "      <td>[682, 49, 1489, 1075]</td>\n",
              "      <td>https://signstock.blob.core.windows.net/signsc...</td>\n",
              "    </tr>\n",
              "    <tr>\n",
              "      <th>9</th>\n",
              "      <td>find</td>\n",
              "      <td>21855</td>\n",
              "      <td>test</td>\n",
              "      <td>[112, 9, 555, 480]</td>\n",
              "      <td>https://media.asldeafined.com/vocabulary/14684...</td>\n",
              "    </tr>\n",
              "    <tr>\n",
              "      <th>10</th>\n",
              "      <td>fishing</td>\n",
              "      <td>65732</td>\n",
              "      <td>train</td>\n",
              "      <td>[137, 28, 480, 370]</td>\n",
              "      <td>https://aslsignbank.haskins.yale.edu/dictionar...</td>\n",
              "    </tr>\n",
              "  </tbody>\n",
              "</table>\n",
              "</div>"
            ],
            "text/plain": [
              "   class_name  video_id  split                   bbox  \\\n",
              "0       fight     21704   test     [75, 25, 218, 192]   \n",
              "1       fight     21706  train     [81, 17, 232, 192]   \n",
              "2        find     69323    val  [480, 69, 1350, 1080]   \n",
              "3        find     21858  train     [79, 10, 213, 192]   \n",
              "4        find     21859  train     [68, 12, 210, 192]   \n",
              "5        find     21863  train    [187, 52, 572, 400]   \n",
              "6        find     21852  train      [30, 0, 276, 240]   \n",
              "7        find     21853   test    [386, 53, 801, 720]   \n",
              "8        find     21854  train  [682, 49, 1489, 1075]   \n",
              "9        find     21855   test     [112, 9, 555, 480]   \n",
              "10    fishing     65732  train    [137, 28, 480, 370]   \n",
              "\n",
              "                                                 link  \n",
              "0   https://www.signingsavvy.com/signs/mp4/22/2224...  \n",
              "1   https://www.signingsavvy.com/signs/mp4/22/2276...  \n",
              "2        http://aslbricks.org/New/ASL-Videos/find.mp4  \n",
              "3   https://www.signingsavvy.com/signs/mp4/6/6103.mp4  \n",
              "4   https://www.signingsavvy.com/signs/mp4/9/9553.mp4  \n",
              "5      http://www.aslsearch.com/signs/videos/pick.mp4  \n",
              "6   https://media.spreadthesign.com/video/mp4/13/5...  \n",
              "7   https://s3-us-west-1.amazonaws.com/files.start...  \n",
              "8   https://signstock.blob.core.windows.net/signsc...  \n",
              "9   https://media.asldeafined.com/vocabulary/14684...  \n",
              "10  https://aslsignbank.haskins.yale.edu/dictionar...  "
            ]
          },
          "execution_count": 3,
          "metadata": {},
          "output_type": "execute_result"
        }
      ],
      "source": [
        "#open filtered data csv\n",
        "\n",
        "data = pd.read_csv(\"new_data.csv\")\n",
        "data.head(11)"
      ]
    },
    {
      "cell_type": "code",
      "execution_count": 7,
      "metadata": {
        "colab": {
          "base_uri": "https://localhost:8080/",
          "height": 1000
        },
        "id": "-LfaL1lrRRzD",
        "outputId": "be5951f0-b270-498f-df9d-acb649dd62a4"
      },
      "outputs": [],
      "source": [
        " ### FUNCTION TO CREATE HANDLANDMARKS\n",
        " \n",
        "def hand_land_marking(link):\n",
        "  not_running = []\n",
        "  mp_hands = mp.solutions.hands\n",
        "  hands = mp_hands.Hands()\n",
        "  mpDraw = mp.solutions.drawing_utils\n",
        "\n",
        "\n",
        "  vid_path = link\n",
        "  cap = cv2.VideoCapture(vid_path)\n",
        "\n",
        "  bbox = data.loc[data['link'] == vid_path, 'bbox'].values\n",
        "  bbox = ast.literal_eval(bbox[0])\n",
        "\n",
        "\n",
        "  # Define the coordinates of the bounding box (top-left and bottom-right)\n",
        "  x1, y1 = bbox[0], bbox[1]  # Top-left corner\n",
        "  x2, y2 = bbox[2], bbox[3]  # Bottom-right corner\n",
        "\n",
        "\n",
        "  if not cap.isOpened():\n",
        "    print(\"Error: Could not open video file.\")\n",
        "  \n",
        "    \n",
        "\n",
        "  else:\n",
        "    while cap.isOpened():\n",
        "  # Read a frame from the video\n",
        "        ret, frame = cap.read()\n",
        "  # Check if the frame was read successfully\n",
        "        if not ret:\n",
        "            print(\"End of video.\")\n",
        "            break\n",
        "  #Use the bbox coordinates to crop frame\n",
        "        cropped_frame = frame[y1:y2, x1:x2]\n",
        "        frame_rgb = cv2.cvtColor(cropped_frame, cv2.COLOR_BGR2RGB) #recolor frame to run process\n",
        "\n",
        "        detection = hands.process(frame_rgb)\n",
        "  #If hands are detected then draw the hand landmarkd and the hand connections\n",
        "        if detection.multi_hand_landmarks:\n",
        "          for landmarks in detection.multi_hand_landmarks:\n",
        "            mpDraw.draw_landmarks(frame_rgb, landmarks, mp_hands.HAND_CONNECTIONS,\n",
        "                landmark_drawing_spec=mpDraw.DrawingSpec(color=(70,130,180), thickness=-1, circle_radius=5),\n",
        "                connection_drawing_spec=mpDraw.DrawingSpec(color=(0, 0, 0), thickness=1))\n",
        "  #Show the image only if the hands are present\n",
        "          plt.imshow(frame_rgb)\n",
        "          plt.axis('off')\n",
        "          plt.show()\n",
        "  #Show the image even if hands not present with all the landmarks and connections\n",
        "        #plt.imshow(frame_rgb)\n",
        "        #plt.axis('off')\n",
        "        #plt.show()\n",
        "\n",
        "\n",
        "    cap.release()\n"
      ]
    },
    {
      "cell_type": "code",
      "execution_count": null,
      "metadata": {},
      "outputs": [
        {
          "name": "stderr",
          "output_type": "stream",
          "text": [
            "[tcp @ 0x414ff21b0] Connection to tcp://www.aslsearch.com:443 failed: Operation timed out\n",
            "OpenCV: Couldn't read video stream from file \"http://www.aslsearch.com/signs/videos/carpet2.mp4\"\n"
          ]
        }
      ],
      "source": [
        "#test run of the hand_land_marking function\n",
        "#for i in range(10):\n",
        "   # hand_land_marking(data['link'][i])\n",
        "import concurrent.futures\n",
        "\n",
        "def check_video_opening(link):\n",
        "    try:\n",
        "        vid = cv2.VideoCapture(link)\n",
        "        opened = vid.isOpened()\n",
        "        vid.release()\n",
        "        return opened\n",
        "    except Exception as e:\n",
        "        print(f\"Error opening video {link}: {e}\")\n",
        "        return False\n",
        "\n",
        "not_open = []\n",
        "with concurrent.futures.ThreadPoolExecutor() as executor:\n",
        "    futures = [executor.submit(check_video_opening, link) for link in data['link']]\n",
        "    for i, future in enumerate(concurrent.futures.as_completed(futures)):\n",
        "        if not future.result():\n",
        "            not_open.append(i)\n",
        "\n",
        "print(\"Videos not opened:\", not_open.length)\n",
        "\n",
        "  "
      ]
    },
    {
      "cell_type": "code",
      "execution_count": 7,
      "metadata": {
        "colab": {
          "base_uri": "https://localhost:8080/",
          "height": 1000
        },
        "id": "Bkr9djByL63y",
        "outputId": "f67e0c7c-6778-42df-e1e8-b198dae8ccd4"
      },
      "outputs": [],
      "source": [
        "#### WORKING CODE FOR READING IN VIDEO INTO IMAGES#########\n",
        "def read_videos(link):\n",
        "  count =0\n",
        "  vid_path = link\n",
        "  cap = cv2.VideoCapture(vid_path)\n",
        "  bbox = data.loc[data['link'] == vid_path, 'bbox'].values\n",
        "  bbox = ast.literal_eval(bbox[0])\n",
        "  # Define the coordinates of the bounding box (top-left and bottom-right)\n",
        "  x1, y1 = bbox[0], bbox[1]  # Top-left corner\n",
        "  x2, y2 = bbox[2], bbox[3]  # Bottom-right corner\n",
        "\n",
        "  # Create a hand landmarker instance with the video mode:\n",
        "  #with vision.HandLandmarker.create_from_options(options) as landmarker:\n",
        "  if not cap.isOpened():\n",
        "    print(\"Error: Could not open video file.\")\n",
        "\n",
        "\n",
        "  else:\n",
        "    while cap.isOpened():\n",
        "  # Read a frame from the video\n",
        "\n",
        "        ret, frame = cap.read()\n",
        "  # Check if the frame was read successfully\n",
        "        if not ret:\n",
        "            print(\"End of video.\")\n",
        "            break\n",
        "        frame = frame[y1:y2, x1:x2]\n",
        "        rgbframe = cv2.cvtColor(frame, cv2.COLOR_BGR2RGB)\n",
        "\n",
        "        plt.imshow(rgbframe)\n",
        "        plt.axis('off')\n",
        "        plt.show()\n",
        "        count+=1\n",
        "    cap.release()\n",
        "  print(count)"
      ]
    }
  ],
  "metadata": {
    "colab": {
      "provenance": []
    },
    "kernelspec": {
      "display_name": "Python 3",
      "name": "python3"
    },
    "language_info": {
      "codemirror_mode": {
        "name": "ipython",
        "version": 3
      },
      "file_extension": ".py",
      "mimetype": "text/x-python",
      "name": "python",
      "nbconvert_exporter": "python",
      "pygments_lexer": "ipython3",
      "version": "3.8.10"
    }
  },
  "nbformat": 4,
  "nbformat_minor": 0
}
